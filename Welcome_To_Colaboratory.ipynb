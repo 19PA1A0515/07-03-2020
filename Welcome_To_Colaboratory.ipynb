{
  "nbformat": 4,
  "nbformat_minor": 0,
  "metadata": {
    "colab": {
      "name": "Welcome To Colaboratory",
      "provenance": [],
      "collapsed_sections": [],
      "include_colab_link": true
    },
    "kernelspec": {
      "display_name": "Python 3",
      "name": "python3"
    }
  },
  "cells": [
    {
      "cell_type": "markdown",
      "metadata": {
        "id": "view-in-github",
        "colab_type": "text"
      },
      "source": [
        "<a href=\"https://colab.research.google.com/github/19PA1A0515/07-03-2020/blob/master/Welcome_To_Colaboratory.ipynb\" target=\"_parent\"><img src=\"https://colab.research.google.com/assets/colab-badge.svg\" alt=\"Open In Colab\"/></a>"
      ]
    },
    {
      "cell_type": "markdown",
      "metadata": {
        "id": "k3jPerCcW4JT",
        "colab_type": "text"
      },
      "source": [
        ""
      ]
    },
    {
      "cell_type": "code",
      "metadata": {
        "id": "WFSR91WGW-ir",
        "colab_type": "code",
        "colab": {}
      },
      "source": [
        "import numpy as np\n",
        "import pandas as pd\n",
        "import matplotlib.pyplot as plt\n",
        "from sklearn.model_selection import train_test_split"
      ],
      "execution_count": 0,
      "outputs": []
    },
    {
      "cell_type": "code",
      "metadata": {
        "id": "OSNn-7PoYOyL",
        "colab_type": "code",
        "colab": {
          "base_uri": "https://localhost:8080/",
          "height": 456
        },
        "outputId": "0ef0e59f-5801-40de-c1ff-300b3f2fe967"
      },
      "source": [
        "s=pd.read_csv(\"students_placement_data (1).csv\")\n",
        "s"
      ],
      "execution_count": 84,
      "outputs": [
        {
          "output_type": "execute_result",
          "data": {
            "text/html": [
              "<div>\n",
              "<style scoped>\n",
              "    .dataframe tbody tr th:only-of-type {\n",
              "        vertical-align: middle;\n",
              "    }\n",
              "\n",
              "    .dataframe tbody tr th {\n",
              "        vertical-align: top;\n",
              "    }\n",
              "\n",
              "    .dataframe thead th {\n",
              "        text-align: right;\n",
              "    }\n",
              "</style>\n",
              "<table border=\"1\" class=\"dataframe\">\n",
              "  <thead>\n",
              "    <tr style=\"text-align: right;\">\n",
              "      <th></th>\n",
              "      <th>Roll No</th>\n",
              "      <th>Gender</th>\n",
              "      <th>Section</th>\n",
              "      <th>SSC Percentage</th>\n",
              "      <th>inter_Diploma_percentage</th>\n",
              "      <th>B.Tech_percentage</th>\n",
              "      <th>Backlogs</th>\n",
              "      <th>registered_for_ Placement_Training</th>\n",
              "      <th>placement status</th>\n",
              "    </tr>\n",
              "  </thead>\n",
              "  <tbody>\n",
              "    <tr>\n",
              "      <th>0</th>\n",
              "      <td>1</td>\n",
              "      <td>M</td>\n",
              "      <td>A</td>\n",
              "      <td>87.3</td>\n",
              "      <td>65.30</td>\n",
              "      <td>40.00</td>\n",
              "      <td>18</td>\n",
              "      <td>NO</td>\n",
              "      <td>Not placed</td>\n",
              "    </tr>\n",
              "    <tr>\n",
              "      <th>1</th>\n",
              "      <td>2</td>\n",
              "      <td>F</td>\n",
              "      <td>A</td>\n",
              "      <td>89.0</td>\n",
              "      <td>92.40</td>\n",
              "      <td>71.45</td>\n",
              "      <td>0</td>\n",
              "      <td>yes</td>\n",
              "      <td>Placed</td>\n",
              "    </tr>\n",
              "    <tr>\n",
              "      <th>2</th>\n",
              "      <td>3</td>\n",
              "      <td>F</td>\n",
              "      <td>A</td>\n",
              "      <td>67.0</td>\n",
              "      <td>68.00</td>\n",
              "      <td>45.26</td>\n",
              "      <td>13</td>\n",
              "      <td>yes</td>\n",
              "      <td>Not placed</td>\n",
              "    </tr>\n",
              "    <tr>\n",
              "      <th>3</th>\n",
              "      <td>4</td>\n",
              "      <td>M</td>\n",
              "      <td>A</td>\n",
              "      <td>71.0</td>\n",
              "      <td>70.40</td>\n",
              "      <td>36.47</td>\n",
              "      <td>17</td>\n",
              "      <td>yes</td>\n",
              "      <td>Not placed</td>\n",
              "    </tr>\n",
              "    <tr>\n",
              "      <th>4</th>\n",
              "      <td>5</td>\n",
              "      <td>M</td>\n",
              "      <td>A</td>\n",
              "      <td>67.0</td>\n",
              "      <td>65.50</td>\n",
              "      <td>42.52</td>\n",
              "      <td>17</td>\n",
              "      <td>yes</td>\n",
              "      <td>Not placed</td>\n",
              "    </tr>\n",
              "    <tr>\n",
              "      <th>...</th>\n",
              "      <td>...</td>\n",
              "      <td>...</td>\n",
              "      <td>...</td>\n",
              "      <td>...</td>\n",
              "      <td>...</td>\n",
              "      <td>...</td>\n",
              "      <td>...</td>\n",
              "      <td>...</td>\n",
              "      <td>...</td>\n",
              "    </tr>\n",
              "    <tr>\n",
              "      <th>112</th>\n",
              "      <td>113</td>\n",
              "      <td>M</td>\n",
              "      <td>B</td>\n",
              "      <td>81.1</td>\n",
              "      <td>78.60</td>\n",
              "      <td>35.84</td>\n",
              "      <td>16</td>\n",
              "      <td>NO</td>\n",
              "      <td>Not placed</td>\n",
              "    </tr>\n",
              "    <tr>\n",
              "      <th>113</th>\n",
              "      <td>114</td>\n",
              "      <td>M</td>\n",
              "      <td>B</td>\n",
              "      <td>81.3</td>\n",
              "      <td>85.12</td>\n",
              "      <td>68.50</td>\n",
              "      <td>0</td>\n",
              "      <td>NO</td>\n",
              "      <td>Not placed</td>\n",
              "    </tr>\n",
              "    <tr>\n",
              "      <th>114</th>\n",
              "      <td>115</td>\n",
              "      <td>M</td>\n",
              "      <td>B</td>\n",
              "      <td>83.5</td>\n",
              "      <td>89.90</td>\n",
              "      <td>76.30</td>\n",
              "      <td>0</td>\n",
              "      <td>NO</td>\n",
              "      <td>Not placed</td>\n",
              "    </tr>\n",
              "    <tr>\n",
              "      <th>115</th>\n",
              "      <td>116</td>\n",
              "      <td>M</td>\n",
              "      <td>B</td>\n",
              "      <td>85.5</td>\n",
              "      <td>90.63</td>\n",
              "      <td>74.50</td>\n",
              "      <td>0</td>\n",
              "      <td>NO</td>\n",
              "      <td>Not placed</td>\n",
              "    </tr>\n",
              "    <tr>\n",
              "      <th>116</th>\n",
              "      <td>117</td>\n",
              "      <td>M</td>\n",
              "      <td>B</td>\n",
              "      <td>80.0</td>\n",
              "      <td>83.33</td>\n",
              "      <td>65.53</td>\n",
              "      <td>0</td>\n",
              "      <td>NO</td>\n",
              "      <td>Not placed</td>\n",
              "    </tr>\n",
              "  </tbody>\n",
              "</table>\n",
              "<p>117 rows × 9 columns</p>\n",
              "</div>"
            ],
            "text/plain": [
              "     Roll No Gender  ... registered_for_ Placement_Training  placement status\n",
              "0          1      M  ...                                 NO        Not placed\n",
              "1          2      F  ...                                yes            Placed\n",
              "2          3      F  ...                                yes        Not placed\n",
              "3          4      M  ...                                yes        Not placed\n",
              "4          5      M  ...                                yes        Not placed\n",
              "..       ...    ...  ...                                ...               ...\n",
              "112      113      M  ...                                 NO        Not placed\n",
              "113      114      M  ...                                 NO        Not placed\n",
              "114      115      M  ...                                 NO        Not placed\n",
              "115      116      M  ...                                 NO        Not placed\n",
              "116      117      M  ...                                 NO        Not placed\n",
              "\n",
              "[117 rows x 9 columns]"
            ]
          },
          "metadata": {
            "tags": []
          },
          "execution_count": 84
        }
      ]
    },
    {
      "cell_type": "code",
      "metadata": {
        "id": "EEtN2i3vZatA",
        "colab_type": "code",
        "colab": {
          "base_uri": "https://localhost:8080/",
          "height": 187
        },
        "outputId": "c6867944-aabe-4e19-8649-4cf98d0e38f1"
      },
      "source": [
        "s.isna().any()"
      ],
      "execution_count": 85,
      "outputs": [
        {
          "output_type": "execute_result",
          "data": {
            "text/plain": [
              "Roll No                               False\n",
              "Gender                                False\n",
              "Section                               False\n",
              "SSC Percentage                        False\n",
              "inter_Diploma_percentage              False\n",
              "B.Tech_percentage                     False\n",
              "Backlogs                              False\n",
              "registered_for_ Placement_Training    False\n",
              "placement status                      False\n",
              "dtype: bool"
            ]
          },
          "metadata": {
            "tags": []
          },
          "execution_count": 85
        }
      ]
    },
    {
      "cell_type": "code",
      "metadata": {
        "id": "c36ZYfvjZmID",
        "colab_type": "code",
        "colab": {
          "base_uri": "https://localhost:8080/",
          "height": 241
        },
        "outputId": "8ed950bf-2d90-4e7d-dc75-93bea4447457"
      },
      "source": [
        "s.head()"
      ],
      "execution_count": 86,
      "outputs": [
        {
          "output_type": "execute_result",
          "data": {
            "text/html": [
              "<div>\n",
              "<style scoped>\n",
              "    .dataframe tbody tr th:only-of-type {\n",
              "        vertical-align: middle;\n",
              "    }\n",
              "\n",
              "    .dataframe tbody tr th {\n",
              "        vertical-align: top;\n",
              "    }\n",
              "\n",
              "    .dataframe thead th {\n",
              "        text-align: right;\n",
              "    }\n",
              "</style>\n",
              "<table border=\"1\" class=\"dataframe\">\n",
              "  <thead>\n",
              "    <tr style=\"text-align: right;\">\n",
              "      <th></th>\n",
              "      <th>Roll No</th>\n",
              "      <th>Gender</th>\n",
              "      <th>Section</th>\n",
              "      <th>SSC Percentage</th>\n",
              "      <th>inter_Diploma_percentage</th>\n",
              "      <th>B.Tech_percentage</th>\n",
              "      <th>Backlogs</th>\n",
              "      <th>registered_for_ Placement_Training</th>\n",
              "      <th>placement status</th>\n",
              "    </tr>\n",
              "  </thead>\n",
              "  <tbody>\n",
              "    <tr>\n",
              "      <th>0</th>\n",
              "      <td>1</td>\n",
              "      <td>M</td>\n",
              "      <td>A</td>\n",
              "      <td>87.3</td>\n",
              "      <td>65.3</td>\n",
              "      <td>40.00</td>\n",
              "      <td>18</td>\n",
              "      <td>NO</td>\n",
              "      <td>Not placed</td>\n",
              "    </tr>\n",
              "    <tr>\n",
              "      <th>1</th>\n",
              "      <td>2</td>\n",
              "      <td>F</td>\n",
              "      <td>A</td>\n",
              "      <td>89.0</td>\n",
              "      <td>92.4</td>\n",
              "      <td>71.45</td>\n",
              "      <td>0</td>\n",
              "      <td>yes</td>\n",
              "      <td>Placed</td>\n",
              "    </tr>\n",
              "    <tr>\n",
              "      <th>2</th>\n",
              "      <td>3</td>\n",
              "      <td>F</td>\n",
              "      <td>A</td>\n",
              "      <td>67.0</td>\n",
              "      <td>68.0</td>\n",
              "      <td>45.26</td>\n",
              "      <td>13</td>\n",
              "      <td>yes</td>\n",
              "      <td>Not placed</td>\n",
              "    </tr>\n",
              "    <tr>\n",
              "      <th>3</th>\n",
              "      <td>4</td>\n",
              "      <td>M</td>\n",
              "      <td>A</td>\n",
              "      <td>71.0</td>\n",
              "      <td>70.4</td>\n",
              "      <td>36.47</td>\n",
              "      <td>17</td>\n",
              "      <td>yes</td>\n",
              "      <td>Not placed</td>\n",
              "    </tr>\n",
              "    <tr>\n",
              "      <th>4</th>\n",
              "      <td>5</td>\n",
              "      <td>M</td>\n",
              "      <td>A</td>\n",
              "      <td>67.0</td>\n",
              "      <td>65.5</td>\n",
              "      <td>42.52</td>\n",
              "      <td>17</td>\n",
              "      <td>yes</td>\n",
              "      <td>Not placed</td>\n",
              "    </tr>\n",
              "  </tbody>\n",
              "</table>\n",
              "</div>"
            ],
            "text/plain": [
              "   Roll No Gender  ... registered_for_ Placement_Training  placement status\n",
              "0        1      M  ...                                 NO        Not placed\n",
              "1        2      F  ...                                yes            Placed\n",
              "2        3      F  ...                                yes        Not placed\n",
              "3        4      M  ...                                yes        Not placed\n",
              "4        5      M  ...                                yes        Not placed\n",
              "\n",
              "[5 rows x 9 columns]"
            ]
          },
          "metadata": {
            "tags": []
          },
          "execution_count": 86
        }
      ]
    },
    {
      "cell_type": "code",
      "metadata": {
        "id": "ZtRiNjV-Z2qn",
        "colab_type": "code",
        "colab": {
          "base_uri": "https://localhost:8080/",
          "height": 1000
        },
        "outputId": "fbc11319-c5b6-423a-f8e0-e5cac0e792f1"
      },
      "source": [
        "x=s[[\"SSC Percentage\",\"inter_Diploma_percentage\"]].values\n",
        "y=s[[\"B.Tech_percentage\"]].values\n",
        "x,y"
      ],
      "execution_count": 87,
      "outputs": [
        {
          "output_type": "execute_result",
          "data": {
            "text/plain": [
              "(array([[87.3 , 65.3 ],\n",
              "        [89.  , 92.4 ],\n",
              "        [67.  , 68.  ],\n",
              "        [71.  , 70.4 ],\n",
              "        [67.  , 65.5 ],\n",
              "        [81.26, 68.  ],\n",
              "        [71.  , 56.5 ],\n",
              "        [84.83, 79.3 ],\n",
              "        [85.  , 89.6 ],\n",
              "        [79.9 , 75.5 ],\n",
              "        [82.33, 76.3 ],\n",
              "        [91.  , 66.  ],\n",
              "        [81.33, 60.3 ],\n",
              "        [87.1 , 88.7 ],\n",
              "        [63.1 , 52.2 ],\n",
              "        [85.83, 86.  ],\n",
              "        [87.  , 85.  ],\n",
              "        [93.66, 95.1 ],\n",
              "        [80.66, 86.3 ],\n",
              "        [87.83, 93.6 ],\n",
              "        [83.83, 90.3 ],\n",
              "        [77.5 , 83.9 ],\n",
              "        [80.3 , 83.  ],\n",
              "        [90.5 , 90.4 ],\n",
              "        [86.16, 87.2 ],\n",
              "        [74.5 , 78.3 ],\n",
              "        [87.1 , 81.  ],\n",
              "        [55.66, 65.3 ],\n",
              "        [64.3 , 67.1 ],\n",
              "        [72.  , 88.1 ],\n",
              "        [87.33, 96.5 ],\n",
              "        [72.17, 77.7 ],\n",
              "        [79.  , 88.9 ],\n",
              "        [76.  , 80.1 ],\n",
              "        [86.6 , 78.4 ],\n",
              "        [87.33, 90.  ],\n",
              "        [82.  , 91.4 ],\n",
              "        [91.  , 94.3 ],\n",
              "        [74.  , 76.8 ],\n",
              "        [83.5 , 88.8 ],\n",
              "        [88.16, 91.4 ],\n",
              "        [75.33, 61.2 ],\n",
              "        [81.1 , 67.5 ],\n",
              "        [86.  , 92.5 ],\n",
              "        [82.3 , 83.7 ],\n",
              "        [87.5 , 84.4 ],\n",
              "        [83.5 , 76.9 ],\n",
              "        [77.16, 89.1 ],\n",
              "        [66.16, 77.2 ],\n",
              "        [85.33, 93.8 ],\n",
              "        [87.42, 92.2 ],\n",
              "        [79.  , 79.  ],\n",
              "        [82.9 , 73.4 ],\n",
              "        [72.  , 84.5 ],\n",
              "        [85.5 , 83.6 ],\n",
              "        [87.33, 92.  ],\n",
              "        [64.  , 56.7 ],\n",
              "        [72.5 , 67.8 ],\n",
              "        [90.3 , 93.7 ],\n",
              "        [90.66, 94.7 ],\n",
              "        [81.83, 85.6 ],\n",
              "        [85.33, 91.2 ],\n",
              "        [77.33, 76.5 ],\n",
              "        [79.6 , 69.2 ],\n",
              "        [86.  , 94.2 ],\n",
              "        [90.  , 91.6 ],\n",
              "        [83.66, 90.4 ],\n",
              "        [86.66, 89.9 ],\n",
              "        [85.  , 61.  ],\n",
              "        [47.8 , 52.4 ],\n",
              "        [90.33, 95.6 ],\n",
              "        [79.  , 93.  ],\n",
              "        [81.83, 83.7 ],\n",
              "        [88.16, 80.1 ],\n",
              "        [75.5 , 81.7 ],\n",
              "        [78.6 , 87.8 ],\n",
              "        [78.  , 59.  ],\n",
              "        [74.16, 91.7 ],\n",
              "        [89.  , 86.  ],\n",
              "        [70.  , 81.  ],\n",
              "        [86.  , 91.9 ],\n",
              "        [84.84, 91.6 ],\n",
              "        [83.66, 90.5 ],\n",
              "        [89.  , 88.9 ],\n",
              "        [74.  , 88.4 ],\n",
              "        [87.33, 83.8 ],\n",
              "        [50.66, 54.2 ],\n",
              "        [82.  , 73.6 ],\n",
              "        [65.3 , 77.7 ],\n",
              "        [83.  , 83.  ],\n",
              "        [60.83, 80.2 ],\n",
              "        [83.16, 79.9 ],\n",
              "        [88.1 , 89.1 ],\n",
              "        [72.  , 81.  ],\n",
              "        [89.33, 88.6 ],\n",
              "        [79.33, 61.1 ],\n",
              "        [92.33, 96.9 ],\n",
              "        [76.83, 80.4 ],\n",
              "        [88.3 , 93.9 ],\n",
              "        [82.83, 84.1 ],\n",
              "        [79.83, 64.2 ],\n",
              "        [82.66, 89.6 ],\n",
              "        [92.66, 93.7 ],\n",
              "        [88.  , 67.9 ],\n",
              "        [68.16, 62.6 ],\n",
              "        [84.1 , 73.  ],\n",
              "        [74.5 , 69.6 ],\n",
              "        [83.  , 81.01],\n",
              "        [62.  , 70.91],\n",
              "        [81.  , 73.  ],\n",
              "        [82.3 , 75.13],\n",
              "        [63.66, 69.  ],\n",
              "        [81.1 , 78.6 ],\n",
              "        [81.3 , 85.12],\n",
              "        [83.5 , 89.9 ],\n",
              "        [85.5 , 90.63],\n",
              "        [80.  , 83.33]]), array([[40.  ],\n",
              "        [71.45],\n",
              "        [45.26],\n",
              "        [36.47],\n",
              "        [42.52],\n",
              "        [62.2 ],\n",
              "        [33.77],\n",
              "        [61.02],\n",
              "        [53.  ],\n",
              "        [51.  ],\n",
              "        [71.49],\n",
              "        [49.67],\n",
              "        [54.74],\n",
              "        [74.96],\n",
              "        [50.55],\n",
              "        [75.96],\n",
              "        [70.01],\n",
              "        [85.39],\n",
              "        [71.65],\n",
              "        [74.34],\n",
              "        [76.9 ],\n",
              "        [73.01],\n",
              "        [68.3 ],\n",
              "        [70.3 ],\n",
              "        [54.18],\n",
              "        [55.82],\n",
              "        [61.  ],\n",
              "        [38.  ],\n",
              "        [64.36],\n",
              "        [69.6 ],\n",
              "        [74.25],\n",
              "        [58.  ],\n",
              "        [71.94],\n",
              "        [42.  ],\n",
              "        [65.7 ],\n",
              "        [68.7 ],\n",
              "        [75.42],\n",
              "        [72.68],\n",
              "        [51.  ],\n",
              "        [67.5 ],\n",
              "        [72.74],\n",
              "        [58.67],\n",
              "        [45.45],\n",
              "        [70.85],\n",
              "        [69.48],\n",
              "        [72.57],\n",
              "        [59.53],\n",
              "        [67.06],\n",
              "        [52.09],\n",
              "        [77.5 ],\n",
              "        [78.  ],\n",
              "        [55.49],\n",
              "        [52.  ],\n",
              "        [67.21],\n",
              "        [60.35],\n",
              "        [70.85],\n",
              "        [31.2 ],\n",
              "        [52.31],\n",
              "        [77.95],\n",
              "        [81.1 ],\n",
              "        [60.72],\n",
              "        [74.3 ],\n",
              "        [52.  ],\n",
              "        [49.68],\n",
              "        [78.6 ],\n",
              "        [72.4 ],\n",
              "        [72.47],\n",
              "        [75.13],\n",
              "        [52.56],\n",
              "        [44.73],\n",
              "        [80.47],\n",
              "        [59.  ],\n",
              "        [68.9 ],\n",
              "        [63.41],\n",
              "        [73.13],\n",
              "        [56.88],\n",
              "        [51.06],\n",
              "        [73.09],\n",
              "        [65.6 ],\n",
              "        [57.75],\n",
              "        [62.16],\n",
              "        [70.09],\n",
              "        [57.8 ],\n",
              "        [63.  ],\n",
              "        [76.02],\n",
              "        [69.48],\n",
              "        [60.53],\n",
              "        [42.  ],\n",
              "        [62.99],\n",
              "        [62.97],\n",
              "        [54.  ],\n",
              "        [68.7 ],\n",
              "        [61.68],\n",
              "        [51.  ],\n",
              "        [69.62],\n",
              "        [62.98],\n",
              "        [88.1 ],\n",
              "        [72.73],\n",
              "        [78.6 ],\n",
              "        [72.57],\n",
              "        [65.46],\n",
              "        [83.38],\n",
              "        [76.35],\n",
              "        [53.26],\n",
              "        [64.63],\n",
              "        [57.3 ],\n",
              "        [56.89],\n",
              "        [58.  ],\n",
              "        [55.7 ],\n",
              "        [42.17],\n",
              "        [54.16],\n",
              "        [61.  ],\n",
              "        [35.84],\n",
              "        [68.5 ],\n",
              "        [76.3 ],\n",
              "        [74.5 ],\n",
              "        [65.53]]))"
            ]
          },
          "metadata": {
            "tags": []
          },
          "execution_count": 87
        }
      ]
    },
    {
      "cell_type": "code",
      "metadata": {
        "id": "ltMTUUWXa52l",
        "colab_type": "code",
        "colab": {
          "base_uri": "https://localhost:8080/",
          "height": 34
        },
        "outputId": "4382bc87-cf80-4526-9f88-2cb9af8a3c07"
      },
      "source": [
        "x.shape"
      ],
      "execution_count": 61,
      "outputs": [
        {
          "output_type": "execute_result",
          "data": {
            "text/plain": [
              "(117, 2)"
            ]
          },
          "metadata": {
            "tags": []
          },
          "execution_count": 61
        }
      ]
    },
    {
      "cell_type": "code",
      "metadata": {
        "id": "5UJI-LNge86F",
        "colab_type": "code",
        "colab": {
          "base_uri": "https://localhost:8080/",
          "height": 34
        },
        "outputId": "18935964-8d2f-46a9-cfb4-df9fd739b594"
      },
      "source": [
        "y.shape"
      ],
      "execution_count": 88,
      "outputs": [
        {
          "output_type": "execute_result",
          "data": {
            "text/plain": [
              "(117, 1)"
            ]
          },
          "metadata": {
            "tags": []
          },
          "execution_count": 88
        }
      ]
    },
    {
      "cell_type": "code",
      "metadata": {
        "id": "24z-OTgwe_pd",
        "colab_type": "code",
        "colab": {}
      },
      "source": [
        "x_train, x_test, y_train, y_test=train_test_split(x,y, test_size=0.2, random_state=0)"
      ],
      "execution_count": 0,
      "outputs": []
    },
    {
      "cell_type": "code",
      "metadata": {
        "id": "_FpZ2zu4fxaU",
        "colab_type": "code",
        "colab": {
          "base_uri": "https://localhost:8080/",
          "height": 54
        },
        "outputId": "fbd25f09-e67c-4f44-8df3-2d7362a4db0b"
      },
      "source": [
        "a=LinearRegression()\n",
        "a.fit(x_train, y_train)"
      ],
      "execution_count": 90,
      "outputs": [
        {
          "output_type": "execute_result",
          "data": {
            "text/plain": [
              "LinearRegression(copy_X=True, fit_intercept=True, n_jobs=None, normalize=False)"
            ]
          },
          "metadata": {
            "tags": []
          },
          "execution_count": 90
        }
      ]
    },
    {
      "cell_type": "code",
      "metadata": {
        "id": "PiI8pUTxgAyu",
        "colab_type": "code",
        "colab": {
          "base_uri": "https://localhost:8080/",
          "height": 425
        },
        "outputId": "6cde607e-cea0-42ea-ebc8-37ba5cd0fe2b"
      },
      "source": [
        "sprd=a.predict(x_test)\n",
        "sprd\n"
      ],
      "execution_count": 91,
      "outputs": [
        {
          "output_type": "execute_result",
          "data": {
            "text/plain": [
              "array([[59.48428235],\n",
              "       [74.39237133],\n",
              "       [47.70510932],\n",
              "       [62.29059186],\n",
              "       [62.07269608],\n",
              "       [38.58534424],\n",
              "       [63.65735244],\n",
              "       [61.03401875],\n",
              "       [64.21328587],\n",
              "       [69.64778895],\n",
              "       [69.47400295],\n",
              "       [51.16069667],\n",
              "       [72.0755656 ],\n",
              "       [68.16310069],\n",
              "       [64.41857474],\n",
              "       [58.94306477],\n",
              "       [61.57127722],\n",
              "       [62.5781799 ],\n",
              "       [71.03915168],\n",
              "       [63.13088105],\n",
              "       [66.63425342],\n",
              "       [52.64568922],\n",
              "       [69.41448084],\n",
              "       [72.10369535]])"
            ]
          },
          "metadata": {
            "tags": []
          },
          "execution_count": 91
        }
      ]
    },
    {
      "cell_type": "code",
      "metadata": {
        "id": "z0UeWJ6KhcDc",
        "colab_type": "code",
        "colab": {
          "base_uri": "https://localhost:8080/",
          "height": 793
        },
        "outputId": "191dd05b-52e4-4777-edb3-f8ae835fcf87"
      },
      "source": [
        "actl=pd.DataFrame({\"actual\":y_test.flatten(),\"predicted\":sprd.flatten()})\n",
        "actl"
      ],
      "execution_count": 70,
      "outputs": [
        {
          "output_type": "execute_result",
          "data": {
            "text/html": [
              "<div>\n",
              "<style scoped>\n",
              "    .dataframe tbody tr th:only-of-type {\n",
              "        vertical-align: middle;\n",
              "    }\n",
              "\n",
              "    .dataframe tbody tr th {\n",
              "        vertical-align: top;\n",
              "    }\n",
              "\n",
              "    .dataframe thead th {\n",
              "        text-align: right;\n",
              "    }\n",
              "</style>\n",
              "<table border=\"1\" class=\"dataframe\">\n",
              "  <thead>\n",
              "    <tr style=\"text-align: right;\">\n",
              "      <th></th>\n",
              "      <th>actual</th>\n",
              "      <th>predicted</th>\n",
              "    </tr>\n",
              "  </thead>\n",
              "  <tbody>\n",
              "    <tr>\n",
              "      <th>0</th>\n",
              "      <td>71.49</td>\n",
              "      <td>59.484282</td>\n",
              "    </tr>\n",
              "    <tr>\n",
              "      <th>1</th>\n",
              "      <td>81.10</td>\n",
              "      <td>74.392371</td>\n",
              "    </tr>\n",
              "    <tr>\n",
              "      <th>2</th>\n",
              "      <td>62.98</td>\n",
              "      <td>47.705109</td>\n",
              "    </tr>\n",
              "    <tr>\n",
              "      <th>3</th>\n",
              "      <td>68.70</td>\n",
              "      <td>62.290592</td>\n",
              "    </tr>\n",
              "    <tr>\n",
              "      <th>4</th>\n",
              "      <td>61.02</td>\n",
              "      <td>62.072696</td>\n",
              "    </tr>\n",
              "    <tr>\n",
              "      <th>5</th>\n",
              "      <td>60.53</td>\n",
              "      <td>38.585344</td>\n",
              "    </tr>\n",
              "    <tr>\n",
              "      <th>6</th>\n",
              "      <td>61.00</td>\n",
              "      <td>63.657352</td>\n",
              "    </tr>\n",
              "    <tr>\n",
              "      <th>7</th>\n",
              "      <td>35.84</td>\n",
              "      <td>61.034019</td>\n",
              "    </tr>\n",
              "    <tr>\n",
              "      <th>8</th>\n",
              "      <td>68.30</td>\n",
              "      <td>64.213286</td>\n",
              "    </tr>\n",
              "    <tr>\n",
              "      <th>9</th>\n",
              "      <td>69.62</td>\n",
              "      <td>69.647789</td>\n",
              "    </tr>\n",
              "    <tr>\n",
              "      <th>10</th>\n",
              "      <td>83.38</td>\n",
              "      <td>69.474003</td>\n",
              "    </tr>\n",
              "    <tr>\n",
              "      <th>11</th>\n",
              "      <td>45.26</td>\n",
              "      <td>51.160697</td>\n",
              "    </tr>\n",
              "    <tr>\n",
              "      <th>12</th>\n",
              "      <td>78.00</td>\n",
              "      <td>72.075566</td>\n",
              "    </tr>\n",
              "    <tr>\n",
              "      <th>13</th>\n",
              "      <td>54.18</td>\n",
              "      <td>68.163101</td>\n",
              "    </tr>\n",
              "    <tr>\n",
              "      <th>14</th>\n",
              "      <td>65.53</td>\n",
              "      <td>64.418575</td>\n",
              "    </tr>\n",
              "    <tr>\n",
              "      <th>15</th>\n",
              "      <td>52.00</td>\n",
              "      <td>58.943065</td>\n",
              "    </tr>\n",
              "    <tr>\n",
              "      <th>16</th>\n",
              "      <td>51.00</td>\n",
              "      <td>61.571277</td>\n",
              "    </tr>\n",
              "    <tr>\n",
              "      <th>17</th>\n",
              "      <td>73.13</td>\n",
              "      <td>62.578180</td>\n",
              "    </tr>\n",
              "    <tr>\n",
              "      <th>18</th>\n",
              "      <td>74.30</td>\n",
              "      <td>71.039152</td>\n",
              "    </tr>\n",
              "    <tr>\n",
              "      <th>19</th>\n",
              "      <td>63.41</td>\n",
              "      <td>63.130881</td>\n",
              "    </tr>\n",
              "    <tr>\n",
              "      <th>20</th>\n",
              "      <td>70.01</td>\n",
              "      <td>66.634253</td>\n",
              "    </tr>\n",
              "    <tr>\n",
              "      <th>21</th>\n",
              "      <td>55.70</td>\n",
              "      <td>52.645689</td>\n",
              "    </tr>\n",
              "    <tr>\n",
              "      <th>22</th>\n",
              "      <td>74.96</td>\n",
              "      <td>69.414481</td>\n",
              "    </tr>\n",
              "    <tr>\n",
              "      <th>23</th>\n",
              "      <td>70.85</td>\n",
              "      <td>72.103695</td>\n",
              "    </tr>\n",
              "  </tbody>\n",
              "</table>\n",
              "</div>"
            ],
            "text/plain": [
              "    actual  predicted\n",
              "0    71.49  59.484282\n",
              "1    81.10  74.392371\n",
              "2    62.98  47.705109\n",
              "3    68.70  62.290592\n",
              "4    61.02  62.072696\n",
              "5    60.53  38.585344\n",
              "6    61.00  63.657352\n",
              "7    35.84  61.034019\n",
              "8    68.30  64.213286\n",
              "9    69.62  69.647789\n",
              "10   83.38  69.474003\n",
              "11   45.26  51.160697\n",
              "12   78.00  72.075566\n",
              "13   54.18  68.163101\n",
              "14   65.53  64.418575\n",
              "15   52.00  58.943065\n",
              "16   51.00  61.571277\n",
              "17   73.13  62.578180\n",
              "18   74.30  71.039152\n",
              "19   63.41  63.130881\n",
              "20   70.01  66.634253\n",
              "21   55.70  52.645689\n",
              "22   74.96  69.414481\n",
              "23   70.85  72.103695"
            ]
          },
          "metadata": {
            "tags": []
          },
          "execution_count": 70
        }
      ]
    },
    {
      "cell_type": "code",
      "metadata": {
        "id": "HLhNFkqlqlDR",
        "colab_type": "code",
        "colab": {
          "base_uri": "https://localhost:8080/",
          "height": 287
        },
        "outputId": "268bcdff-e8cd-4193-f5c8-df5a72cfd14e"
      },
      "source": [
        "c=s.boxplot(column=[\"SSC Percentage\",\"inter_Diploma_percentage\",\"B.Tech_percentage\"])\n",
        "c"
      ],
      "execution_count": 101,
      "outputs": [
        {
          "output_type": "execute_result",
          "data": {
            "text/plain": [
              "<matplotlib.axes._subplots.AxesSubplot at 0x7f425f127c88>"
            ]
          },
          "metadata": {
            "tags": []
          },
          "execution_count": 101
        },
        {
          "output_type": "display_data",
          "data": {
            "image/png": "[encoded data removed]",
            "text/plain": [
              "<Figure size 432x288 with 1 Axes>"
            ]
          },
          "metadata": {
            "tags": []
          }
        }
      ]
    },
    {
      "cell_type": "code",
      "metadata": {
        "id": "jDZemAipz0Nr",
        "colab_type": "code",
        "colab": {}
      },
      "source": [
        "import pandas as np"
      ],
      "execution_count": 0,
      "outputs": []
    },
    {
      "cell_type": "code",
      "metadata": {
        "id": "gaascIvAukjb",
        "colab_type": "code",
        "colab": {
          "base_uri": "https://localhost:8080/",
          "height": 200
        },
        "outputId": "f6344f36-ff50-488e-8967-73de7737c82f"
      },
      "source": [
        "b=a.loc[a[\"Gender\"]==\"M\"]\n",
        "b.head()"
      ],
      "execution_count": 103,
      "outputs": [
        {
          "output_type": "error",
          "ename": "AttributeError",
          "evalue": "ignored",
          "traceback": [
            "\u001b[0;31m---------------------------------------------------------------------------\u001b[0m",
            "\u001b[0;31mAttributeError\u001b[0m                            Traceback (most recent call last)",
            "\u001b[0;32m<ipython-input-103-6bfc953f52ca>\u001b[0m in \u001b[0;36m<module>\u001b[0;34m()\u001b[0m\n\u001b[0;32m----> 1\u001b[0;31m \u001b[0mb\u001b[0m\u001b[0;34m=\u001b[0m\u001b[0ma\u001b[0m\u001b[0;34m.\u001b[0m\u001b[0mloc\u001b[0m\u001b[0;34m[\u001b[0m\u001b[0ma\u001b[0m\u001b[0;34m[\u001b[0m\u001b[0;34m\"Gender\"\u001b[0m\u001b[0;34m]\u001b[0m\u001b[0;34m==\u001b[0m\u001b[0;34m\"M\"\u001b[0m\u001b[0;34m]\u001b[0m\u001b[0;34m\u001b[0m\u001b[0;34m\u001b[0m\u001b[0m\n\u001b[0m\u001b[1;32m      2\u001b[0m \u001b[0mb\u001b[0m\u001b[0;34m.\u001b[0m\u001b[0mhead\u001b[0m\u001b[0;34m(\u001b[0m\u001b[0;34m)\u001b[0m\u001b[0;34m\u001b[0m\u001b[0;34m\u001b[0m\u001b[0m\n",
            "\u001b[0;31mAttributeError\u001b[0m: 'LinearRegression' object has no attribute 'loc'"
          ]
        }
      ]
    }
  ]
}